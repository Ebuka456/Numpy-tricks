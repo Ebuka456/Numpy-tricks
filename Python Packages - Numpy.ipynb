{
 "cells": [
  {
   "cell_type": "markdown",
   "id": "3d07b8ae",
   "metadata": {},
   "source": [
    "# Python Packages: NumPy"
   ]
  },
  {
   "cell_type": "markdown",
   "id": "f6d6f708",
   "metadata": {},
   "source": [
    "## Numpy"
   ]
  },
  {
   "cell_type": "markdown",
   "id": "e9076cfa",
   "metadata": {},
   "source": [
    "Python does not know how to perfrom calculations using lists. Calculations can be done with the aid of Numeric Python (NumPy)"
   ]
  },
  {
   "cell_type": "markdown",
   "id": "2011bc20",
   "metadata": {},
   "source": [
    "#### Creating an array"
   ]
  },
  {
   "cell_type": "code",
   "execution_count": 13,
   "id": "86d3a513",
   "metadata": {},
   "outputs": [
    {
     "name": "stdout",
     "output_type": "stream",
     "text": [
      "[180 215 210 210 188 176 209 200]\n",
      "<class 'numpy.ndarray'>\n"
     ]
    }
   ],
   "source": [
    "# Create list baseball\n",
    "baseball = [180, 215, 210, 210, 188, 176, 209, 200]\n",
    "\n",
    "# Import the numpy package as np\n",
    "import numpy as np\n",
    "\n",
    "# Create a numpy array from baseball: np_baseball\n",
    "np_baseball = np.array(baseball)\n",
    "\n",
    "# Print out type of np_baseball\n",
    "print(np_baseball)\n",
    "print(type(np_baseball))"
   ]
  },
  {
   "cell_type": "code",
   "execution_count": 1,
   "id": "a8e47437",
   "metadata": {},
   "outputs": [
    {
     "name": "stdout",
     "output_type": "stream",
     "text": [
      "[1.73, 1.68, 1.71, 1.89, 1.79]\n",
      "[65.4, 59.2, 63.6, 88.4, 68.7]\n"
     ]
    }
   ],
   "source": [
    "height = [1.73, 1.68, 1.71, 1.89, 1.79]\n",
    "weight = [65.4, 59.2, 63.6, 88.4, 68.7]\n",
    "\n",
    "print(height)\n",
    "print(weight)"
   ]
  },
  {
   "cell_type": "code",
   "execution_count": 3,
   "id": "b0e92a4a",
   "metadata": {},
   "outputs": [
    {
     "name": "stdout",
     "output_type": "stream",
     "text": [
      "[1.73 1.68 1.71 1.89 1.79]\n",
      "[65.4 59.2 63.6 88.4 68.7]\n"
     ]
    }
   ],
   "source": [
    "# to import numpy\n",
    "import numpy as np\n",
    "np_height = np.array(height)\n",
    "print(np_height)\n",
    "\n",
    "np_weight = np.array(weight)\n",
    "print(np_weight)\n"
   ]
  },
  {
   "cell_type": "code",
   "execution_count": 4,
   "id": "9dbe1042",
   "metadata": {},
   "outputs": [
    {
     "data": {
      "text/plain": [
       "array([21.85171573, 20.97505669, 21.75028214, 24.7473475 , 21.44127836])"
      ]
     },
     "execution_count": 4,
     "metadata": {},
     "output_type": "execute_result"
    }
   ],
   "source": [
    "# to try out a calculation to find the bmi \n",
    "bmi = np_weight / np_height**2\n",
    "bmi"
   ]
  },
  {
   "cell_type": "markdown",
   "id": "681a30c8",
   "metadata": {},
   "source": [
    "#### Numpy Subsetting"
   ]
  },
  {
   "cell_type": "code",
   "execution_count": 8,
   "id": "3fb5284d",
   "metadata": {},
   "outputs": [
    {
     "name": "stdout",
     "output_type": "stream",
     "text": [
      "21.85171572722109\n",
      "21.44\n"
     ]
    }
   ],
   "source": [
    "#you can perfrom the same index selection similar to that of python lists\n",
    "print(bmi[0])\n",
    "print(bmi[-1].round(2))"
   ]
  },
  {
   "cell_type": "code",
   "execution_count": 11,
   "id": "7f6163d1",
   "metadata": {},
   "outputs": [
    {
     "name": "stdout",
     "output_type": "stream",
     "text": [
      "[False False False  True False]\n"
     ]
    },
    {
     "data": {
      "text/plain": [
       "array([24.7473475])"
      ]
     },
     "execution_count": 11,
     "metadata": {},
     "output_type": "execute_result"
    }
   ],
   "source": [
    "# you can perfrom some logical operations to your subsetting\n",
    "print(bmi>23)\n",
    "\n",
    "#to filter the selection, we use\n",
    "bmi[bmi>23]"
   ]
  },
  {
   "cell_type": "code",
   "execution_count": 17,
   "id": "ad1b6f67",
   "metadata": {},
   "outputs": [
    {
     "name": "stdout",
     "output_type": "stream",
     "text": [
      "[21.85171573 21.75028214 21.44127836]\n",
      "[21.85171573 20.97505669 21.75028214 21.44127836]\n"
     ]
    }
   ],
   "source": [
    "#filering with more than one conditions\n",
    "print(bmi[(bmi > 21) & (bmi <= 23)])\n",
    "\n",
    "#you can save your filtering condition in a variable\n",
    "mask = (bmi > 20) & (bmi <= 22)\n",
    "print(bmi[mask])"
   ]
  },
  {
   "cell_type": "markdown",
   "id": "70aaec4d",
   "metadata": {},
   "source": [
    "#### 2D NumPy Arrays"
   ]
  },
  {
   "cell_type": "code",
   "execution_count": 19,
   "id": "4fd69f46",
   "metadata": {},
   "outputs": [
    {
     "data": {
      "text/plain": [
       "(2, 5)"
      ]
     },
     "execution_count": 19,
     "metadata": {},
     "output_type": "execute_result"
    }
   ],
   "source": [
    "#the type of numpy arrays are ususally numpy.ndarray. nd means n number of dimensions\n",
    "import numpy as np\n",
    "#example of a 2D array\n",
    "np_2d = np.array([[1.73, 1.68, 1.71, 1.89, 1.79], [65.4, 89.2, 63.6, 88.4, 68.2]])\n",
    "#to find the shape of your array in (x, y) where is number of rows and y is number of columns \n",
    "np_2d.shape\n",
    "#you use the shape to determine the structure of your array"
   ]
  },
  {
   "cell_type": "code",
   "execution_count": 23,
   "id": "8b49deca",
   "metadata": {},
   "outputs": [
    {
     "name": "stdout",
     "output_type": "stream",
     "text": [
      "1.71\n",
      "88.4\n",
      "1.71\n",
      "88.4\n",
      "[[ 1.68  1.71]\n",
      " [89.2  63.6 ]]\n",
      "[65.4 89.2 63.6 88.4 68.2]\n"
     ]
    }
   ],
   "source": [
    "#to select elements of the 2D array, you can use double []\n",
    "print(np_2d[0][2])\n",
    "print(np_2d[1][3])\n",
    "\n",
    "#or you can use a single [] but separated by a comma\n",
    "print(np_2d[0, 2])\n",
    "print(np_2d[1, 3])\n",
    "\n",
    "# to select a range of cell from both first and second row\n",
    "print(np_2d[:, 1:3]) #fetching the second and third element form both rows\n",
    "print(np_2d[1, :])\n"
   ]
  },
  {
   "cell_type": "code",
   "execution_count": 25,
   "id": "a546c86c",
   "metadata": {},
   "outputs": [
    {
     "name": "stdout",
     "output_type": "stream",
     "text": [
      "[21.85171573 31.60430839 21.75028214 24.7473475  21.2852283 ]\n"
     ]
    }
   ],
   "source": [
    "# performing claculations using 2D arrays\n",
    "bmi_1 = np_2d[1] / np_2d[0]**2\n",
    "print(bmi_1)"
   ]
  },
  {
   "cell_type": "code",
   "execution_count": 43,
   "id": "886dbd34",
   "metadata": {},
   "outputs": [
    {
     "name": "stdout",
     "output_type": "stream",
     "text": [
      "<class 'numpy.ndarray'>\n",
      "(4, 2)\n"
     ]
    }
   ],
   "source": [
    "# Assessment\n",
    "# Create baseball, a list of lists\n",
    "baseball = [[180, 78.4],\n",
    "            [215, 102.7],\n",
    "            [210, 98.5],\n",
    "            [188, 75.2]]\n",
    "\n",
    "# Import numpy\n",
    "import numpy as np\n",
    "\n",
    "# Create a 2D numpy array from baseball: np_baseball\n",
    "np_baseball = np.array(baseball)\n",
    "\n",
    "# Print out the type of np_baseball\n",
    "print(type(np_baseball))\n",
    "\n",
    "# Print out the shape of np_baseball\n",
    "print(np_baseball.shape)"
   ]
  },
  {
   "cell_type": "markdown",
   "id": "8ffe98cf",
   "metadata": {},
   "source": [
    "### NumPy Basic Statistics"
   ]
  },
  {
   "cell_type": "markdown",
   "id": "431f58a0",
   "metadata": {},
   "source": [
    "There are some functions we can use to perform some statistics on numpy arrays such as mean, median, correlation coefficient, standard deviation etc."
   ]
  },
  {
   "cell_type": "code",
   "execution_count": 28,
   "id": "68a391ed",
   "metadata": {},
   "outputs": [
    {
     "name": "stdout",
     "output_type": "stream",
     "text": [
      "[[ 1.66 68.25]\n",
      " [ 1.79 72.65]\n",
      " [ 1.5  84.27]\n",
      " ...\n",
      " [ 1.95 91.24]\n",
      " [ 2.15 24.13]\n",
      " [ 1.61 67.16]]\n"
     ]
    }
   ],
   "source": [
    "# let us generate random values for the height and weight of baseball players\n",
    "# Arguments for np.random.normal\n",
    "# distribution mean\n",
    "# distribution standard deviation\n",
    "# number of samples\n",
    "height_1 = np.round(np.random.normal(1.75, 0.20, 5000), 2) \n",
    "weight_1 = np.round(np.random.normal(60.32, 15, 5000), 2)\n",
    "\n",
    "#to combine the height and weight to form an array \n",
    "np_baseball = np.column_stack((height_1, weight_1))\n",
    "\n",
    "print(np_baseball)"
   ]
  },
  {
   "cell_type": "code",
   "execution_count": 34,
   "id": "4f58e44d",
   "metadata": {},
   "outputs": [
    {
     "name": "stdout",
     "output_type": "stream",
     "text": [
      "Average: 1.751968\n",
      "Median: 1.75\n",
      "Standard Deviation: 0.2008279038779223\n",
      "Correlation: [[ 1.         -0.01184707]\n",
      " [-0.01184707  1.        ]]\n",
      "The Sum of heights: 8759.84\n",
      "The Sum of weights: 301743.34\n"
     ]
    }
   ],
   "source": [
    "# np_baseball is available\n",
    "\n",
    "# Import numpy\n",
    "import numpy as np\n",
    "\n",
    "# Print mean height (first column)\n",
    "avg = np.mean(np_baseball[:,0])\n",
    "print(\"Average: \" + str(avg))\n",
    "\n",
    "# Print median height. Replace 'None'\n",
    "med = np.median(np_baseball[:, 0])\n",
    "print(\"Median: \" + str(med))\n",
    "\n",
    "# Print out the standard deviation on height. Replace 'None'\n",
    "stddev = np.std(np_baseball[:, 0])\n",
    "print(\"Standard Deviation: \" + str(stddev))\n",
    "\n",
    "# Print out correlation between first and second column. Replace 'None'\n",
    "corr = np.corrcoef(np_baseball[:, 0], np_baseball[:, 1])\n",
    "print(\"Correlation: \" + str(corr))\n",
    "\n",
    "#print out the sum of height and weight column \n",
    "sum_height = np.sum(np_baseball[:, 0])\n",
    "sum_weight = np.sum(np_baseball[:, 1])\n",
    "print(\"The Sum of heights: \" + str(sum_height)); print(\"The Sum of weights: \" + str(round(sum_weight, 2)))"
   ]
  },
  {
   "cell_type": "code",
   "execution_count": 38,
   "id": "04a25847",
   "metadata": {},
   "outputs": [
    {
     "name": "stdout",
     "output_type": "stream",
     "text": [
      "5000\n"
     ]
    }
   ],
   "source": [
    "import random\n",
    "import numpy as np\n",
    "\n",
    "items = ['GK', 'DF', 'MD', 'FW']\n",
    "positions = []\n",
    "\n",
    "for i in range(5000):\n",
    "    positions.append(random.choice(items))\n",
    "\n",
    "#to check the number of elements to be sure it is 5000 elements \n",
    "print(len(positions))\n",
    "\n",
    "#to convert to an array \n",
    "np_positions = np.array(positions)\n",
    "\n",
    "#to select random heights with mean of 1.75(randomly chosen) and standard deviation of 0.2 \n",
    "np_heights = np.round(np.random.normal(1.75, 0.2, 5000),2)"
   ]
  },
  {
   "cell_type": "code",
   "execution_count": 39,
   "id": "7ede9fc5",
   "metadata": {},
   "outputs": [
    {
     "name": "stdout",
     "output_type": "stream",
     "text": [
      "Median height of goalkeepers: 1.75\n",
      "Median height of other players: 1.75\n"
     ]
    }
   ],
   "source": [
    "# heights and positions have been computed above\n",
    "\n",
    "# Heights of the goalkeepers: gk_heights\n",
    "gk_heights = np_heights[np_positions == 'GK']\n",
    "\n",
    "\n",
    "# Heights of the other players: other_heights\n",
    "other_heights = np_heights[np_positions != 'GK']\n",
    "\n",
    "# Print out the median height of goalkeepers. Replace 'None'\n",
    "print(\"Median height of goalkeepers: \" + str(np.median(gk_heights)))\n",
    "\n",
    "# Print out the median height of other players. Replace 'None'\n",
    "print(\"Median height of other players: \" + str(np.median(other_heights)))"
   ]
  },
  {
   "cell_type": "code",
   "execution_count": null,
   "id": "841527f1",
   "metadata": {
    "scrolled": true
   },
   "outputs": [],
   "source": [
    "import os\n",
    "os.getcwd()"
   ]
  }
 ],
 "metadata": {
  "kernelspec": {
   "display_name": "Python 3 (ipykernel)",
   "language": "python",
   "name": "python3"
  },
  "language_info": {
   "codemirror_mode": {
    "name": "ipython",
    "version": 3
   },
   "file_extension": ".py",
   "mimetype": "text/x-python",
   "name": "python",
   "nbconvert_exporter": "python",
   "pygments_lexer": "ipython3",
   "version": "3.9.7"
  }
 },
 "nbformat": 4,
 "nbformat_minor": 5
}
